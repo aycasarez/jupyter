{
 "cells": [
  {
   "cell_type": "code",
   "execution_count": 1,
   "metadata": {},
   "outputs": [],
   "source": [
    "from urllib.request import urlopen\n",
    "import csv\n",
    "import numpy as np\n",
    "from matplotlib import pyplot as plt\n",
    "%matplotlib inline\n"
   ]
  },
  {
   "cell_type": "code",
   "execution_count": 2,
   "metadata": {},
   "outputs": [
    {
     "data": {
      "text/plain": [
       "[['\\ufeffTitle',\n",
       "  'Artist',\n",
       "  'ConstituentID',\n",
       "  'ArtistBio',\n",
       "  'Nationality',\n",
       "  'BeginDate',\n",
       "  'EndDate',\n",
       "  'Gender',\n",
       "  'Date',\n",
       "  'Medium',\n",
       "  'Dimensions',\n",
       "  'CreditLine',\n",
       "  'AccessionNumber',\n",
       "  'Classification',\n",
       "  'Department',\n",
       "  'DateAcquired',\n",
       "  'Cataloged',\n",
       "  'ObjectID',\n",
       "  'URL',\n",
       "  'ThumbnailURL',\n",
       "  'Circumference (cm)',\n",
       "  'Depth (cm)',\n",
       "  'Diameter (cm)',\n",
       "  'Height (cm)',\n",
       "  'Length (cm)',\n",
       "  'Weight (kg)',\n",
       "  'Width (cm)',\n",
       "  'Seat Height (cm)',\n",
       "  'Duration (sec.)'],\n",
       " ['Ferdinandsbrücke Project, Vienna, Austria, Elevation, preliminary version',\n",
       "  'Otto Wagner',\n",
       "  '6210',\n",
       "  '(Austrian, 1841–1918)',\n",
       "  '(Austrian)',\n",
       "  '(1841)',\n",
       "  '(1918)',\n",
       "  '(Male)',\n",
       "  '1896',\n",
       "  'Ink and cut-and-pasted painted pages on paper',\n",
       "  '19 1/8 x 66 1/2\" (48.6 x 168.9 cm)',\n",
       "  'Fractional and promised gift of Jo Carole and Ronald S. Lauder',\n",
       "  '885.1996',\n",
       "  'Architecture',\n",
       "  'Architecture & Design',\n",
       "  '1996-04-09',\n",
       "  'Y',\n",
       "  '2',\n",
       "  'http://www.moma.org/collection/works/2',\n",
       "  'http://www.moma.org/media/W1siZiIsIjU5NDA1Il0sWyJwIiwiY29udmVydCIsIi1yZXNpemUgMzAweDMwMFx1MDAzZSJdXQ.jpg?sha=137b8455b1ec6167',\n",
       "  '',\n",
       "  '',\n",
       "  '',\n",
       "  '48.6',\n",
       "  '',\n",
       "  '',\n",
       "  '168.9',\n",
       "  '',\n",
       "  ''],\n",
       " ['City of Music, National Superior Conservatory of Music and Dance, Paris, France, View from interior courtyard',\n",
       "  'Christian de Portzamparc',\n",
       "  '7470',\n",
       "  '(French, born 1944)',\n",
       "  '(French)',\n",
       "  '(1944)',\n",
       "  '(0)',\n",
       "  '(Male)',\n",
       "  '1987',\n",
       "  'Paint and colored pencil on print',\n",
       "  '16 x 11 3/4\" (40.6 x 29.8 cm)',\n",
       "  'Gift of the architect in honor of Lily Auchincloss',\n",
       "  '1.1995',\n",
       "  'Architecture',\n",
       "  'Architecture & Design',\n",
       "  '1995-01-17',\n",
       "  'Y',\n",
       "  '3',\n",
       "  'http://www.moma.org/collection/works/3',\n",
       "  'http://www.moma.org/media/W1siZiIsIjk3Il0sWyJwIiwiY29udmVydCIsIi1yZXNpemUgMzAweDMwMFx1MDAzZSJdXQ.jpg?sha=55b65fa4368fe00a',\n",
       "  '',\n",
       "  '',\n",
       "  '',\n",
       "  '40.6401',\n",
       "  '',\n",
       "  '',\n",
       "  '29.8451',\n",
       "  '',\n",
       "  '']]"
      ]
     },
     "execution_count": 2,
     "metadata": {},
     "output_type": "execute_result"
    }
   ],
   "source": [
    "## Loading CSV as list of lists\n",
    "\n",
    "metadata_table = []\n",
    "\n",
    "with open('Artworks.csv') as csvfile:\n",
    "    csv_reader = csv.reader(csvfile)\n",
    "    for row in csv_reader:\n",
    "        metadata_table.append(row)\n",
    "\n",
    "metadata_table[:3] # Viewing first 3 rows in table"
   ]
  },
  {
   "cell_type": "code",
   "execution_count": 3,
   "metadata": {},
   "outputs": [
    {
     "data": {
      "text/plain": [
       "[(0, '\\ufeffTitle'),\n",
       " (1, 'Artist'),\n",
       " (2, 'ConstituentID'),\n",
       " (3, 'ArtistBio'),\n",
       " (4, 'Nationality'),\n",
       " (5, 'BeginDate'),\n",
       " (6, 'EndDate'),\n",
       " (7, 'Gender'),\n",
       " (8, 'Date'),\n",
       " (9, 'Medium'),\n",
       " (10, 'Dimensions'),\n",
       " (11, 'CreditLine'),\n",
       " (12, 'AccessionNumber'),\n",
       " (13, 'Classification'),\n",
       " (14, 'Department'),\n",
       " (15, 'DateAcquired'),\n",
       " (16, 'Cataloged'),\n",
       " (17, 'ObjectID'),\n",
       " (18, 'URL'),\n",
       " (19, 'ThumbnailURL'),\n",
       " (20, 'Circumference (cm)'),\n",
       " (21, 'Depth (cm)'),\n",
       " (22, 'Diameter (cm)'),\n",
       " (23, 'Height (cm)'),\n",
       " (24, 'Length (cm)'),\n",
       " (25, 'Weight (kg)'),\n",
       " (26, 'Width (cm)'),\n",
       " (27, 'Seat Height (cm)'),\n",
       " (28, 'Duration (sec.)')]"
      ]
     },
     "execution_count": 3,
     "metadata": {},
     "output_type": "execute_result"
    }
   ],
   "source": [
    "## Save first row to 'column_headers' variable,\n",
    "# then view field headers next to their index values\n",
    "\n",
    "column_headers = metadata_table[0]\n",
    "\n",
    "list(enumerate(column_headers))"
   ]
  },
  {
   "cell_type": "code",
   "execution_count": 4,
   "metadata": {},
   "outputs": [],
   "source": [
    "## Removing column header row (defined in the previous cell) from 'metadata_table'\n",
    "\n",
    "metadata_table.remove(column_headers)"
   ]
  },
  {
   "cell_type": "code",
   "execution_count": 5,
   "metadata": {},
   "outputs": [
    {
     "data": {
      "text/plain": [
       "['Demnächst.....Merkur in neuer bunter Vielfalt',\n",
       " '',\n",
       " '',\n",
       " '',\n",
       " '',\n",
       " '',\n",
       " '',\n",
       " '',\n",
       " '1964',\n",
       " 'Offset lithograph',\n",
       " '33 x 46 1/2\" (83.8 x 118.1 cm)',\n",
       " 'Given anonymously',\n",
       " '273.1965.3',\n",
       " 'Design',\n",
       " 'Architecture & Design',\n",
       " '1965-04-06',\n",
       " 'N',\n",
       " '5992',\n",
       " '',\n",
       " '',\n",
       " '',\n",
       " '',\n",
       " '',\n",
       " '83.8',\n",
       " '',\n",
       " '',\n",
       " '118.1',\n",
       " '',\n",
       " '']"
      ]
     },
     "execution_count": 5,
     "metadata": {},
     "output_type": "execute_result"
    }
   ],
   "source": [
    "## Viewing a random metadata record. Run this cell a few times to get a feel for the schema.\n",
    "\n",
    "import random\n",
    "\n",
    "random.choice(metadata_table)"
   ]
  },
  {
   "cell_type": "code",
   "execution_count": 6,
   "metadata": {},
   "outputs": [
    {
     "name": "stdout",
     "output_type": "stream",
     "text": [
      "27.9\n"
     ]
    }
   ],
   "source": [
    "## Viewing a random 'height' value\n",
    "\n",
    "import random\n",
    "\n",
    "row = random.choice(metadata_table)\n",
    "height = row[23]\n",
    "print(height)"
   ]
  },
  {
   "cell_type": "code",
   "execution_count": null,
   "metadata": {},
   "outputs": [],
   "source": []
  },
  {
   "cell_type": "markdown",
   "metadata": {},
   "source": [
    "# *Histograms: Height & Width*"
   ]
  },
  {
   "cell_type": "code",
   "execution_count": null,
   "metadata": {},
   "outputs": [],
   "source": [
    "## Creating a list of 'height' values converted to floats, ignoring any missing or faulty values\n",
    "\n",
    "height_list = []\n",
    "\n",
    "for row in metadata_table:\n",
    "    try:\n",
    "        height = float(row[23])        # Converting height value (at index 23) to float and assigning it to 'height' variable\n",
    "        height_list.append(height)     # Adding value to 'height_list'\n",
    "    except:\n",
    "        pass                           # If we get an error in the 'try' block above, we do nothing and move to the next row.\n",
    "                                       # This happens when the 'height' field is empty, so it can't be converted to float.\n",
    "\n",
    "height_list[:10]      # Viewing first 10 height values"
   ]
  },
  {
   "cell_type": "code",
   "execution_count": null,
   "metadata": {},
   "outputs": [],
   "source": [
    "## Creating a list of 'width' values converted to floats, ignoring any missing or faulty values\n",
    "\n",
    "width_list = []\n",
    "\n",
    "for row in metadata_table:\n",
    "    try:\n",
    "        width = float(row[26])\n",
    "        width_list.append(width)\n",
    "    except:\n",
    "        pass\n",
    "\n",
    "\n",
    "width_list[:10]"
   ]
  },
  {
   "cell_type": "code",
   "execution_count": null,
   "metadata": {},
   "outputs": [],
   "source": [
    "## Comparing number of records in original metadata with extracted height and width lists\n",
    "\n",
    "print(len(metadata_table))\n",
    "print(len(width_list))\n",
    "print(len(height_list))\n",
    "\n",
    "# Note that extracted lists are shorter than full metadata table, because we skipped missing values."
   ]
  },
  {
   "cell_type": "code",
   "execution_count": null,
   "metadata": {},
   "outputs": [],
   "source": [
    "## Finding average width (for artworks that include that field)\n",
    "\n",
    "np.mean(width_list)"
   ]
  },
  {
   "cell_type": "code",
   "execution_count": null,
   "metadata": {},
   "outputs": [],
   "source": [
    "## Creating a basic histogram\n",
    "\n",
    "import matplotlib.pyplot as plt\n",
    "%matplotlib inline\n",
    "\n",
    "plt.figure(figsize=(13,5))\n",
    "plt.hist(width_list)\n",
    "plt.show()\n",
    "\n",
    "# This isn't very useful. Note that the x axis (i.e., width values) extends to 8000 cm, \n",
    "# meaning everything else is squeezed into one histogram bar."
   ]
  },
  {
   "cell_type": "code",
   "execution_count": null,
   "metadata": {},
   "outputs": [],
   "source": [
    "## Viewing the biggest width values\n",
    "\n",
    "sorted(width_list)[::-1][:30]"
   ]
  },
  {
   "cell_type": "code",
   "execution_count": null,
   "metadata": {},
   "outputs": [],
   "source": [
    "## Let's omit all width values above 1000 cm and break up the plot into 30 bins\n",
    "\n",
    "plt.figure(figsize=(13,5))\n",
    "\n",
    "temp_width_list = [item for item in width_list if item<=1000]\n",
    "\n",
    "plt.hist(temp_width_list, bins=30)\n",
    "\n",
    "plt.show()\n",
    "\n",
    "# Getting closer ..."
   ]
  },
  {
   "cell_type": "code",
   "execution_count": null,
   "metadata": {},
   "outputs": [],
   "source": [
    "## Omitting values above 200 cm and doubling the number of bins to 60\n",
    "\n",
    "plt.figure(figsize=(13,5))\n",
    "\n",
    "temp_width_list = [item for item in width_list if item<200]\n",
    "\n",
    "plt.hist(temp_width_list, bins=60)\n",
    "\n",
    "plt.show()"
   ]
  },
  {
   "cell_type": "code",
   "execution_count": null,
   "metadata": {},
   "outputs": [],
   "source": [
    "## Plotting two overlaid histograms\n",
    "\n",
    "plt.figure(figsize=(13,5))\n",
    "\n",
    "temp_width_list = [item for item in width_list if item<200]\n",
    "temp_height_list = [item for item in height_list if item<200]\n",
    "\n",
    "plt.hist(temp_width_list, alpha=0.5, label='Widths', bins=60)\n",
    "plt.hist(temp_height_list, alpha=0.5, label='Heights', bins=60)\n",
    "\n",
    "plt.legend(loc='upper right')\n",
    "\n",
    "plt.show()"
   ]
  },
  {
   "cell_type": "code",
   "execution_count": null,
   "metadata": {},
   "outputs": [],
   "source": [
    "## Plotting two overlaid histograms with labels\n",
    "\n",
    "plt.figure(figsize=(13,7))\n",
    "\n",
    "temp_width_list = [item for item in width_list if item<200]\n",
    "temp_height_list = [item for item in height_list if item<200]\n",
    "\n",
    "plt.hist(temp_width_list, alpha=0.5, label='Widths', bins=60)\n",
    "plt.hist(temp_height_list, alpha=0.5, label='Heights', bins=60)\n",
    "\n",
    "plt.legend(loc='upper right')\n",
    "\n",
    "plt.title('Height and Width Distributions')\n",
    "plt.xlabel('Centimeters')\n",
    "plt.ylabel('Number of artworks')\n",
    "\n",
    "plt.show()"
   ]
  },
  {
   "cell_type": "code",
   "execution_count": null,
   "metadata": {},
   "outputs": [],
   "source": []
  },
  {
   "cell_type": "markdown",
   "metadata": {},
   "source": [
    "# *Scatter Plots: Height and Width Pairs*"
   ]
  },
  {
   "cell_type": "code",
   "execution_count": null,
   "metadata": {},
   "outputs": [],
   "source": [
    "## Creating a list of [height, width] coordinate pairs for each record with valid height and width values\n",
    "\n",
    "height_width_pairs = []\n",
    "\n",
    "for row in metadata_table:\n",
    "    try:\n",
    "        height = float(row[23])\n",
    "        width = float(row[26])\n",
    "        pair = [height, width]\n",
    "        height_width_pairs.append(pair)\n",
    "    except:\n",
    "        pass\n",
    "\n",
    "height_width_pairs[:10]           # Viewing first 10 [height, width] pairs"
   ]
  },
  {
   "cell_type": "code",
   "execution_count": null,
   "metadata": {},
   "outputs": [],
   "source": [
    "## Creating basic scatter plot\n",
    "\n",
    "import matplotlib.pyplot as plt\n",
    "%matplotlib inline\n",
    "\n",
    "x_list = [item[0] for item in height_width_pairs]  # Creating a list of x values (index 0 in each pair)\n",
    "y_list = [item[1] for item in height_width_pairs]  # Creating a list of y values (index 1 in each pair)\n",
    "\n",
    "plt.figure(figsize=(6,6))\n",
    "\n",
    "plt.scatter(x_list, y_list, c='green', alpha=0.5)\n",
    "\n",
    "plt.show()"
   ]
  },
  {
   "cell_type": "code",
   "execution_count": null,
   "metadata": {},
   "outputs": [],
   "source": [
    "## Narrowing visible plot to x and y values under 1000 cm\n",
    "\n",
    "x_list = [item[0] for item in height_width_pairs]  # Creating a list of x values (index 0 in each pair)\n",
    "y_list = [item[1] for item in height_width_pairs]  # Creating a list of x values (index 1 in each pair)\n",
    "\n",
    "plt.figure(figsize=(6,6))\n",
    "\n",
    "plt.scatter(x_list, y_list, c='green', alpha=0.5)\n",
    "\n",
    "plt.ylim(ymin=0, ymax=1000)\n",
    "plt.xlim(xmin=0, xmax=1000)\n",
    "\n",
    "plt.show()\n",
    "\n",
    "# Getting closer, but still a bit indistinct. Let's zoom in further."
   ]
  },
  {
   "cell_type": "code",
   "execution_count": null,
   "metadata": {},
   "outputs": [],
   "source": [
    "## Narrowing visible plot to x and y values under 200 cm and increasing plot size\n",
    "\n",
    "x_list = [item[0] for item in height_width_pairs]  # Creating a list of x values (index 0 in each pair)\n",
    "y_list = [item[1] for item in height_width_pairs]  # Creating a list of x values (index 1 in each pair)\n",
    "\n",
    "plt.figure(figsize=(9,9))                          ## <-- Larger plot size\n",
    "\n",
    "plt.scatter(x_list, y_list, c='green', alpha=0.5)\n",
    "\n",
    "plt.ylim(ymin=0, ymax=200)                         ## <-- ymax=200\n",
    "plt.xlim(xmin=0, xmax=200)                         ## <-- xmax=200\n",
    "\n",
    "plt.show()"
   ]
  },
  {
   "cell_type": "code",
   "execution_count": null,
   "metadata": {},
   "outputs": [],
   "source": []
  },
  {
   "cell_type": "markdown",
   "metadata": {},
   "source": [
    "# *Pie Chart: Nationality*"
   ]
  },
  {
   "cell_type": "code",
   "execution_count": 7,
   "metadata": {},
   "outputs": [
    {
     "data": {
      "text/plain": [
       "['(Austrian)',\n",
       " '(French)',\n",
       " '(Austrian)',\n",
       " '()',\n",
       " '(Austrian)',\n",
       " '()',\n",
       " '()',\n",
       " '()',\n",
       " '()',\n",
       " '()']"
      ]
     },
     "execution_count": 7,
     "metadata": {},
     "output_type": "execute_result"
    }
   ],
   "source": [
    "## Creating a list of all items in the 'Nationality' field\n",
    "\n",
    "nationality_list = []\n",
    "\n",
    "for row in metadata_table:\n",
    "    nationality_list.append(row[4])\n",
    "\n",
    "nationality_list[:10]                  # Viewing first 10 items in nationality_list"
   ]
  },
  {
   "cell_type": "code",
   "execution_count": 8,
   "metadata": {},
   "outputs": [
    {
     "name": "stdout",
     "output_type": "stream",
     "text": [
      "(Swedish)\n",
      "()\n",
      "(Finnish)\n",
      "(American)\n"
     ]
    }
   ],
   "source": [
    "## Viewing a few more\n",
    "\n",
    "print(nationality_list[90])\n",
    "print(nationality_list[8])\n",
    "print(nationality_list[3329])\n",
    "print(nationality_list[703])"
   ]
  },
  {
   "cell_type": "code",
   "execution_count": 9,
   "metadata": {},
   "outputs": [
    {
     "data": {
      "text/plain": [
       "['Russian',\n",
       " 'Various',\n",
       " 'Various',\n",
       " 'Russian) (Russian',\n",
       " 'Russian',\n",
       " 'Various',\n",
       " 'Various',\n",
       " '',\n",
       " 'Russian) (Russian',\n",
       " 'American']"
      ]
     },
     "execution_count": 9,
     "metadata": {},
     "output_type": "execute_result"
    }
   ],
   "source": [
    "## Stripping parentheses from the beginning and end of each item in 'nationality_list'\n",
    "\n",
    "nationality_list_cleaned = [item.replace('() ', '').strip('()') for item in nationality_list]\n",
    "\n",
    "nationality_list_cleaned[10000:10010]\n",
    "\n",
    "# Note that some fields include multiple entries, so we're not done. Let's try again:"
   ]
  },
  {
   "cell_type": "code",
   "execution_count": 10,
   "metadata": {},
   "outputs": [
    {
     "data": {
      "text/plain": [
       "['Russian',\n",
       " 'Various',\n",
       " 'Various',\n",
       " 'Russian',\n",
       " 'Russian',\n",
       " 'Various',\n",
       " 'Various',\n",
       " '',\n",
       " 'Russian',\n",
       " 'American']"
      ]
     },
     "execution_count": 10,
     "metadata": {},
     "output_type": "execute_result"
    }
   ],
   "source": [
    "## Splitting each item at ')' and discarding everything that follows.\n",
    "# We're also using .replace() to remove empty '()' entries when they appear first in a list of nationalities.\n",
    "# We're extracting the first nationality listed and discarding the rest, which may distort the data.\n",
    "\n",
    "nationality_list_cleaned = [item.replace('() ', '').split(')')[0].strip('()') for item in nationality_list]\n",
    "\n",
    "nationality_list_cleaned[10000:10010]"
   ]
  },
  {
   "cell_type": "code",
   "execution_count": 11,
   "metadata": {},
   "outputs": [],
   "source": [
    "### Pie chart with manual labels:\n",
    "\n",
    "## Looping through list of nationalities, keeping a tally of how many times various values appear\n",
    "\n",
    "american_tally = 0\n",
    "french_tally = 0\n",
    "british_tally = 0\n",
    "missing_tally = 0\n",
    "other_tally = 0\n",
    "\n",
    "\n",
    "for item in nationality_list_cleaned:\n",
    "    if item == 'American':\n",
    "        american_tally += 1\n",
    "    elif item == 'French':\n",
    "        french_tally += 1\n",
    "    elif item == 'British':\n",
    "        british_tally += 1\n",
    "    elif item == '':\n",
    "        missing_tally += 1\n",
    "    else:\n",
    "        other_tally +=1"
   ]
  },
  {
   "cell_type": "code",
   "execution_count": 12,
   "metadata": {},
   "outputs": [
    {
     "name": "stdout",
     "output_type": "stream",
     "text": [
      "[58126, 22769, 6023, 4938, 39956]\n",
      "['American', 'French', 'British', 'Missing nationality', 'Other']\n"
     ]
    },
    {
     "data": {
      "image/png": "[encoded data removed]",
      "text/plain": [
       "<Figure size 576x576 with 1 Axes>"
      ]
     },
     "metadata": {},
     "output_type": "display_data"
    }
   ],
   "source": [
    "### Pie chart with manual labels:\n",
    "\n",
    "import matplotlib.pyplot as plt\n",
    "%matplotlib inline\n",
    "\n",
    "plt.figure(figsize=(8,8))\n",
    "\n",
    "## A list of numbers, each representing the size of a different category\n",
    "size_list = [american_tally, french_tally, british_tally, missing_tally, other_tally] \n",
    "print(size_list)\n",
    "\n",
    "## A list of labels corresponding in order with the size list above\n",
    "label_list = ['American', 'French', 'British', 'Missing nationality', 'Other']\n",
    "print(label_list)\n",
    "\n",
    "## Colors corresponding in order with the lists above\n",
    "# List of color names: https://stackoverflow.com/questions/22408237/named-colors-in-matplotlib\n",
    "color_list = ['darksalmon', 'yellowgreen', 'lightcoral', 'lightskyblue', 'thistle']\n",
    "\n",
    "# Plot\n",
    "plt.pie(size_list, labels=label_list, colors=color_list, autopct='%1.1f%%', shadow=True, startangle=100) \n",
    "\n",
    "plt.show()"
   ]
  },
  {
   "cell_type": "code",
   "execution_count": 13,
   "metadata": {},
   "outputs": [
    {
     "data": {
      "text/plain": [
       "[('American', 58126),\n",
       " ('French', 22769),\n",
       " ('German', 9544),\n",
       " ('British', 6023),\n",
       " ('', 4938),\n",
       " ('Spanish', 3112),\n",
       " ('Italian', 3019),\n",
       " ('Japanese', 2567),\n",
       " ('Swiss', 2143),\n",
       " ('Russian', 1846)]"
      ]
     },
     "execution_count": 13,
     "metadata": {},
     "output_type": "execute_result"
    }
   ],
   "source": [
    "### Pie chart with automatic labels:\n",
    "\n",
    "## Creating a list of nationalities by how many times they appear in 'nationality_list', sorted in descending order\n",
    "\n",
    "from operator import itemgetter\n",
    "import collections\n",
    "\n",
    "counter = collections.Counter(nationality_list_cleaned)\n",
    "\n",
    "nationality_count_pairs = sorted(counter.most_common(), key=itemgetter(1,0), reverse=True)\n",
    "\n",
    "nationality_count_pairs[:10]"
   ]
  },
  {
   "cell_type": "code",
   "execution_count": 14,
   "metadata": {},
   "outputs": [
    {
     "name": "stdout",
     "output_type": "stream",
     "text": [
      "['American', 'French', 'German', 'British', '', 'Spanish', 'Italian', 'Japanese', 'Swiss', 'Russian']\n",
      "[58126, 22769, 9544, 6023, 4938, 3112, 3019, 2567, 2143, 1846]\n"
     ]
    }
   ],
   "source": [
    "## Creating separate, corresponding lists for nationality values and how many times they appear in MoMA's collection\n",
    "\n",
    "nationality_descending = [item[0] for item in nationality_count_pairs]\n",
    "count_descending = [item[1] for item in nationality_count_pairs]\n",
    "\n",
    "print(nationality_descending[:10])\n",
    "print(count_descending[:10])"
   ]
  },
  {
   "cell_type": "code",
   "execution_count": 15,
   "metadata": {},
   "outputs": [
    {
     "name": "stdout",
     "output_type": "stream",
     "text": [
      "[58126, 22769, 9544, 6023, 4938, 3112, 3019, 2567, 2143, 1846, 1643, 1473, 1319, 1001, 870, 783, 768, 759, 755, 721, 674, 594, 536, 534, 482, 411, 393, 356, 289, 257, 227, 223, 194, 185, 165, 164, 151, 137, 109, 99, 97, 82, 72, 70, 68, 68, 64, 63, 61, 57, 56, 50, 50, 48, 44, 39, 38, 29, 27, 23, 21, 17, 15, 15, 14, 14, 14, 13, 13, 12, 11, 11, 10, 10, 10, 9, 8, 8, 7, 7, 7, 7, 7, 5, 5, 5, 4, 4, 4, 3, 3, 3, 3, 3, 3, 2, 2, 2, 2, 2, 2, 2, 2, 2, 2, 2, 2, 2, 2, 1, 1, 1, 1, 1, 1, 1, 1, 1, 1, 1, 1, 1, 1]\n",
      "['American', 'French', 'German', 'British', '', 'Spanish', 'Italian', 'Japanese', 'Swiss', 'Russian', 'Dutch', 'Belgian', 'Mexican', 'Austrian', 'Canadian', 'Argentine', 'Czech', 'Brazilian', 'Various', 'Colombian', 'Nationality Unknown', 'Nationality unknown', 'Chilean', 'Polish', 'Danish', 'Venezuelan', 'South African', 'Israeli', 'Swedish', 'Australian', 'Chinese', 'Finnish', 'Cuban', 'Norwegian', 'Portuguese', 'Yugoslav', 'Croatian', 'Hungarian', 'Peruvian', 'Indian', 'Korean', 'Ukrainian', 'Romanian', 'Latvian', 'Scottish', 'Guatemalan', 'Costa Rican', 'Uruguayan', 'Egyptian', 'Greek', 'Turkish', 'Lebanese', 'Icelandic', 'Pakistani', 'Luxembourgish', 'Irish', 'Iranian', 'Thai', 'Slovenian', 'Albanian', 'Haitian', 'New Zealander', 'Tunisian', 'Serbian', 'Zimbabwean', 'Puerto Rican', 'Georgian', 'Lithuanian', 'Cameroonian', 'Kenyan', 'English', 'Bulgarian', 'Nigerian', 'Malian', 'Bosnian', 'Slovak', 'Filipino', 'Cambodian', 'Taiwanese', 'Malaysian', 'Ecuadorian', 'Canadian Inuit', 'Algerian', 'Palestinian', 'Moroccan', 'Czechoslovakian', 'Panamanian', 'Ghanaian', 'Bolivian', 'Welsh', 'Vietnamese', 'Senegalese', 'Iraqi', 'Congolese', 'Bahamian', 'nationality unknown', 'Syrian', 'Sudanese', 'Singaporean', 'Paraguayan', 'Nicaraguan', 'Native American', 'Namibian', 'Mauritanian', 'Kyrgyzstani', 'Kazakhstani', 'Ivorian', 'Indonesian', 'Estonian', 'Ugandan', 'Tanzanian', 'Tajik', 'Saudi Arabian', 'Rwandan', 'Mozambican', 'Macedonian', 'Kuwaiti', 'Guyanese', 'Ethiopian', 'Burkinabe', 'Azerbaijani', 'Angolan', 'Afghan']\n"
     ]
    },
    {
     "data": {
      "image/png": "[encoded data removed]",
      "text/plain": [
       "<Figure size 576x576 with 1 Axes>"
      ]
     },
     "metadata": {},
     "output_type": "display_data"
    }
   ],
   "source": [
    "### Pie chart with automatic labels:\n",
    "\n",
    "import matplotlib.pyplot as plt\n",
    "import numpy as np\n",
    "\n",
    "plt.figure(figsize=(8,8))\n",
    "\n",
    "## A list of numbers, each representing the size of a different category\n",
    "size_list = count_descending\n",
    "print(size_list)\n",
    "\n",
    "## A list of labels corresponding in order with the size list above\n",
    "label_list = nationality_descending\n",
    "print(label_list)\n",
    "\n",
    "## Colors corresponding in order with the lists above, repeating\n",
    "# List of color names: https://stackoverflow.com/questions/22408237/named-colors-in-matplotlib\n",
    "color_list = ['darksalmon', 'yellowgreen', 'lightcoral', 'lightskyblue', 'thistle']\n",
    "\n",
    "# Plot\n",
    "plt.pie(size_list, labels=label_list, colors=color_list, autopct='%1.1f%%', shadow=True, startangle=100)\n",
    "\n",
    "plt.show()"
   ]
  },
  {
   "cell_type": "code",
   "execution_count": null,
   "metadata": {},
   "outputs": [],
   "source": []
  },
  {
   "cell_type": "code",
   "execution_count": null,
   "metadata": {},
   "outputs": [],
   "source": [
    "### Pie chart with automatic labels:\n",
    "\n",
    "# Hiding labels for small values to make pie chart more readable\n",
    "\n",
    "import matplotlib.pyplot as plt\n",
    "import numpy as np\n",
    "\n",
    "plt.figure(figsize=(9,9))\n",
    "\n",
    "\n",
    "## A list of numbers, each representing the size of a different category\n",
    "size_list = count_descending\n",
    "\n",
    "## A list of labels corresponding in order with the size list above\n",
    "label_list = nationality_descending[:10] + ['']*(len(nationality_descending)-10)  ## Keeping the first 10 nationality labels  \n",
    "                                                                                  ## and setting the rest to empty strings\n",
    "## Colors corresponding in order with the lists above, repeating\n",
    "# List of color names: https://stackoverflow.com/questions/22408237/named-colors-in-matplotlib\n",
    "color_list = ['darksalmon', 'yellowgreen', 'lightcoral', 'lightskyblue', 'thistle']\n",
    "\n",
    "def my_autopct(pct):                                              ## Defining a function we'll point to in plt.pie() that\n",
    "    return ('%.2f' % pct) if pct > 1.5 else ''                    ## returns '' (empty string) for percentages below 1.5\n",
    "\n",
    "# Plot\n",
    "plt.pie(size_list, labels=label_list, colors=color_list, autopct=my_autopct, shadow=True, startangle=100)\n",
    "\n",
    "plt.show()"
   ]
  },
  {
   "cell_type": "code",
   "execution_count": null,
   "metadata": {},
   "outputs": [],
   "source": []
  },
  {
   "cell_type": "markdown",
   "metadata": {},
   "source": [
    "# *Bar Graph: Medium*"
   ]
  },
  {
   "cell_type": "code",
   "execution_count": null,
   "metadata": {},
   "outputs": [],
   "source": [
    "## Creating lists of rows that contain the words 'lithograph', 'woodcut', and 'engraving' in the 'Medium' field\n",
    "\n",
    "lithograph_rows = []\n",
    "woodcut_rows = []\n",
    "engraving_rows = []\n",
    "\n",
    "for row in metadata_table:\n",
    "    medium = row[9]                     # 'Medium' field located at index 9 in each row            \n",
    "    if 'lithograph' in medium.lower():\n",
    "        lithograph_rows.append(row)     \n",
    "    if 'woodcut' in medium.lower():     # Using .lower() on field to standardize it, and looking for a lowercase substring \n",
    "        woodcut_rows.append(row)\n",
    "    if 'engraving' in medium.lower():\n",
    "        engraving_rows.append(row)\n",
    "\n",
    "# Note that these lists of rows overlap slightly. Some items in MoMA's collection may include two or three of the key words."
   ]
  },
  {
   "cell_type": "code",
   "execution_count": null,
   "metadata": {},
   "outputs": [],
   "source": [
    "## Plotting a basic bar graph\n",
    "\n",
    "import matplotlib.pyplot as plt\n",
    "import numpy as np\n",
    "\n",
    "plt.figure(figsize=(10,7))\n",
    "\n",
    "x_values = [len(lithograph_rows), len(woodcut_rows), len(engraving_rows)]  ## Using the length of each category's \n",
    "                                                                           # list of rows to set bar heights in plot\n",
    "x_pos = range(len(x_values))          # Location of labels along x axis\n",
    "\n",
    "plt.bar(x_pos, x_values, alpha=0.5)   # Plotting the bar graph\n",
    "\n",
    "plt.show()"
   ]
  },
  {
   "cell_type": "code",
   "execution_count": null,
   "metadata": {},
   "outputs": [],
   "source": [
    "## Plotting bar graph with labels\n",
    "\n",
    "import matplotlib.pyplot as plt\n",
    "import numpy as np\n",
    "\n",
    "plt.figure(figsize=(10,7))\n",
    "\n",
    "x_values = [len(lithograph_rows), len(woodcut_rows), len(engraving_rows)]  ## Using the length of each category's \n",
    "                                                                           # list of rows for bar heights in plot\n",
    "x_pos = range(len(x_values))          # Location of labels along x axis\n",
    "\n",
    "# Setting custom labels, aligned with the position of each bar\n",
    "x_labels = ['Lithographs', 'Woodcuts', 'Engravings']          # Labels for x axis\n",
    "plt.xticks(x_pos, x_labels)\n",
    "\n",
    "plt.bar(x_pos, x_values, alpha=0.5)    # Plotting the bar graph\n",
    "\n",
    "# Setting title and y axis label\n",
    "plt.title('Number of artworks by medium')\n",
    "plt.ylabel('Number of artworks')\n",
    " \n",
    "plt.show()"
   ]
  },
  {
   "cell_type": "code",
   "execution_count": null,
   "metadata": {},
   "outputs": [],
   "source": []
  }
 ],
 "metadata": {
  "kernelspec": {
   "display_name": "Python 3",
   "language": "python",
   "name": "python3"
  },
  "language_info": {
   "codemirror_mode": {
    "name": "ipython",
    "version": 3
   },
   "file_extension": ".py",
   "mimetype": "text/x-python",
   "name": "python",
   "nbconvert_exporter": "python",
   "pygments_lexer": "ipython3",
   "version": "3.7.4"
  }
 },
 "nbformat": 4,
 "nbformat_minor": 2
}
