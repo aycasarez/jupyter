{
 "cells": [
  {
   "cell_type": "markdown",
   "metadata": {},
   "source": [
    "# DH Workshops @PCL: Using Jupyter Notebook as a Coding Sandbox"
   ]
  },
  {
   "cell_type": "markdown",
   "metadata": {},
   "source": [
    "## Welcome\n",
    "\n",
    "Welcome to the workshop! This is meant to be a not-so-scary introduction using Jupyter Notebook to familiarize yourself with coding. \n",
    "\n",
    "In this session, we will focus on some basic functionality of Jupyter Notebook and use Python within the notebook to explore a dataset of a museum art collection. \n",
    "\n",
    "This notebook provides:\n",
    "* code that you can execute to see results and generate outputs, directly in this notebook\n",
    "* explanations of the code examples\n",
    "* exercises that we will work through together\n",
    "\n",
    "The workshop will be very quick! We will not be able to get through everything. So, this notebook also includes: \n",
    "* a bonus example about working with data\n",
    "* a list of recommended resources for further exploration on your own. \n"
   ]
  },
  {
   "cell_type": "markdown",
   "metadata": {},
   "source": [
    "### Table of Contents\n",
    "\n",
    "\n",
    "* [Using the Jupyter Notebook](#usingjn)\n",
    "* [Identify Code Cells and Markdown Cells](#identify)\n",
    "* [How to Run a Code Cell](#runcode)\n",
    "    * [Exercise 1: Run Those Cells](#ex1)\n",
    "* [Add New Code to Cells](#addcode)\n",
    "    * [Exercise 2: Paste the Code in the Cell](#ex2)\n",
    "    * [Exercise 2.5: Write the Code in the Cell](#ex25)\n",
    "    * [Exercise 3: Nothing Can Be Ruined](#ex3)\n",
    "* [Don't Forget About Markdown Cells](#mkdn)\n",
    "    * [Exercise 4: Run Those Markdowns](#ex4)\n",
    "    * [Exercise 5: Edit the text in a Markdown cell](#ex5)\n",
    "* [More Jupyter Notebook Exercises](#mjn)\n",
    "    * [Exercise 6 : Add new cells to notebook ](#ex6)\n",
    "    * [Exercise 7 : Add a new Markdown cell, add some text](#ex7)\n",
    "* [Clearing Variables/Output](#kernels)\n",
    "* [Did you realize you are actually mildly confident with Jupyter Notebook?](#ugood)\n",
    "* [Resources](#res)\n"
   ]
  },
  {
   "cell_type": "markdown",
   "metadata": {},
   "source": [
    "# Using the Jupyter Notebook <a name=\"usingjn\"></a>\n",
    "\n",
    "## What is a Jupyter Notebook?\n",
    "\n",
    "[Jupyter Notebook](https://jupyter-notebook.readthedocs.io/en/stable/) is a web application for creating and sharing interactive documents -- it combines live code with rich explanatory text. \n",
    "Jupyter notebooks can include helpful formatting such as plots, mathematical equations, and other rich media.  \n",
    "\n",
    "\n",
    "## How to Use this Notebook \n",
    "You can edit this notebook directly:\n",
    "* run code cells and generate output \n",
    "* add new code and explanatory text \n",
    "\n",
    "In this section we'll go through basic Jupyter Notebook commands to get familiar with working in the notebook.  "
   ]
  },
  {
   "cell_type": "markdown",
   "metadata": {},
   "source": [
    "# Identify Code Cells and Markdown Cells <a name=\"identify\"></a>\n",
    "\n",
    "All content in this notebook is located within individual cells, which you can identify by clicking on them. Clicking on a cell causes its borders to appear. \n",
    "\n",
    "Jupyter notebooks have two kinds of cells:   \n",
    "\n",
    "1. **Code cells:** contain code that can be executed within the notebook. Code cells have an `In [ ]:` to the left of the cell. These are the default types of cells that are created.\n",
    "\n",
    "2. **Markdown cells:** contain text providing explanation and context, usually about the code cells.\n",
    "    * Markdown is a simple markup language for writing for the web. \n",
    "    * More information about Markdown at [Markdown Guide.org](https://www.markdownguide.org/getting-started/) or [Programming Historian's tutorial on 'Getting Started with Markdown'](https://programminghistorian.org/en/lessons/getting-started-with-markdown) \n",
    "    \n",
    "Click on the Code and Markdown cells below to see the cell borders and identify what kind of cells they are. "
   ]
  },
  {
   "cell_type": "code",
   "execution_count": null,
   "metadata": {
    "scrolled": true
   },
   "outputs": [],
   "source": [
    "## hashtags in a code cell indicate a comment -- informational text for a human to read, not to be executed as code\n",
    "\n",
    "print(\"here's an example code cell.\")"
   ]
  },
  {
   "cell_type": "markdown",
   "metadata": {},
   "source": [
    "#### 2. example markdown cell:  \n",
    "\n",
    "this cell only has markdown-formatted text. No code here! "
   ]
  },
  {
   "cell_type": "markdown",
   "metadata": {},
   "source": [
    "Markdown cells contain *markdown*, which is a simplified markup language. Double click this cell to enter the cell edit mode to see the raw markdown. You may notice it reads sensibly as \"annotated\" text - *emphasised* elements, __strongly emphasised__ elements, as well as when rendered as HTML."
   ]
  },
  {
   "cell_type": "markdown",
   "metadata": {},
   "source": [
    "# How to Run a Code Cell <a name=\"runcode\"></a>\n",
    "\n",
    "To identify a code cell, click on the cell. You'll see the cell border appear. \n",
    "\n",
    "To run the code in the cell, press `CTRL` + `Enter`. With cell selected, you can also just push the Run button at the top of the page.\n",
    "\n",
    "While the code runs, you'll see an `*` in the `In [ ]:` to the left of the cell. \n",
    "\n",
    "When the code completes, an integer will appear in the `In [ ]:` to the left of the cell.   \n",
    "\n",
    "If the code produced output, the output will appear underneath the code cell.   "
   ]
  },
  {
   "cell_type": "code",
   "execution_count": null,
   "metadata": {
    "scrolled": true
   },
   "outputs": [],
   "source": [
    "# example code cell demonstrating print output \n",
    "\n",
    "print(\"Press CTRL + ENTER to run a code cell. If the code produces output, it will appear below the cell.\")"
   ]
  },
  {
   "cell_type": "markdown",
   "metadata": {},
   "source": [
    "## Exercise 1: Run Those Cells <a name=\"ex1\"></a>\n",
    "\n",
    "Feel free to run as many of the below examples as you'd like, to get familiar with running code cells. After you run them, take note of the brackets to the left. What changes?"
   ]
  },
  {
   "cell_type": "code",
   "execution_count": null,
   "metadata": {},
   "outputs": [],
   "source": [
    "# use python for arithmetic\n",
    "\n",
    "5 + 5"
   ]
  },
  {
   "cell_type": "code",
   "execution_count": null,
   "metadata": {},
   "outputs": [],
   "source": [
    "# python's len() function counts length of a string\n",
    "\n",
    "len(\"how many characters in this sentence?\")"
   ]
  },
  {
   "cell_type": "code",
   "execution_count": null,
   "metadata": {},
   "outputs": [],
   "source": [
    "# max function returns the largest item in an iterable \n",
    "\n",
    "list = [2, 75, 8, 98, 12, 97, 42, 3, 11]\n",
    "max(list)"
   ]
  },
  {
   "cell_type": "markdown",
   "metadata": {},
   "source": [
    "### Switch Code Cells between Edit Mode and Command Mode \n",
    "\n",
    "All cells in the notebook have two functional modes: \n",
    "* **Command mode:** used for navigating and moving cells = Blue cell border    \n",
    "* **Edit mode:** used for adding/editing content in cells = Green cell border\n",
    "\n",
    "To put a cell into Edit Mode or Command mode, click on the cell. \n",
    "\n",
    "Clicking once on a ***Code cell*** puts it in Edit mode. You can tell the cell is in Edit mode because the cell border turns green. \n",
    "\n",
    "From Edit mode, to switch the Code cell into Command mode (blue border), press the `Esc` key.\n",
    "\n",
    "**NOTE:** If you are not able to see Blue and Green, look for a cursor in the cell. If a cell is in Edit mode, you will see your cursor blinking in the cell. If there is no cursor blinking in the cell, it is in Command mode. "
   ]
  },
  {
   "cell_type": "markdown",
   "metadata": {},
   "source": [
    "### Mini Exercise:\n",
    "\n",
    "Try switching the code cell below back and forth between Edit mode (green) and Command mode (blue) a few times to get used to how this works. "
   ]
  },
  {
   "cell_type": "code",
   "execution_count": null,
   "metadata": {},
   "outputs": [],
   "source": [
    "# more example code\n",
    "\n",
    "print(\"Toggle a code cell between Edit and Command modes using Esc and Enter keys.\")"
   ]
  },
  {
   "cell_type": "markdown",
   "metadata": {},
   "source": [
    "# Add New Code to Cells <a name=\"addcode\"></a>\n",
    "\n",
    "For the following Python exercises, you'll have the chance to try out ideas by adding new code into cells.  "
   ]
  },
  {
   "cell_type": "markdown",
   "metadata": {},
   "source": [
    "#### Type or paste code into an existing cell\n",
    "\n",
    "In the exercises in this notebook, there are empty code cells available to try out solutions. You can paste example code provided, or type your own. \n",
    "\n",
    "First identify that it's a code cell. Look for the `In [ ]:` to the left of the cell, to make sure it's a code cell. Then add code to the cell. \n",
    "\n",
    "To start, try out pasting the bottom line of sample code into the empty code cell below and then running it. \n",
    "\n",
    "1. Copy the block of text below starting from the `##`, and ending with the `)`  \n",
    "2. Then click on one of the empty code cells below, make sure the cell turns green for Edit mode, and paste the copied block of code. \n",
    "3. Then press `CTRL` + `ENTER` to run the code you pasted. \n",
    "\n",
    "```\n",
    "## comment \n",
    "print(\"here's another example of new code.\")\n",
    "\n",
    "```"
   ]
  },
  {
   "cell_type": "markdown",
   "metadata": {},
   "source": [
    "## Exercise 2: Paste the Code in the Cell <a name=\"ex2\"></a>"
   ]
  },
  {
   "cell_type": "code",
   "execution_count": null,
   "metadata": {},
   "outputs": [],
   "source": [
    "# empty code cell\n",
    "\n"
   ]
  },
  {
   "cell_type": "markdown",
   "metadata": {},
   "source": [
    "## Exercise 2.5: Write the Code in the Cell <a name=\"ex25\"></a>"
   ]
  },
  {
   "cell_type": "code",
   "execution_count": null,
   "metadata": {},
   "outputs": [],
   "source": [
    "# empty code cell\n"
   ]
  },
  {
   "cell_type": "markdown",
   "metadata": {},
   "source": [
    "#### Example code cell with completed exercise"
   ]
  },
  {
   "cell_type": "code",
   "execution_count": null,
   "metadata": {},
   "outputs": [],
   "source": [
    "## example of completed exercise\n",
    "\n",
    "## comment \n",
    "print(\"here's an example of new code.\")"
   ]
  },
  {
   "cell_type": "markdown",
   "metadata": {},
   "source": [
    "##  Exercise 3: Nothing Can Be Ruined <a name=\"ex3\"></a>\n",
    "\n",
    "Run the cell below. What happens? Or doesn't?"
   ]
  },
  {
   "cell_type": "code",
   "execution_count": null,
   "metadata": {},
   "outputs": [],
   "source": [
    "### Exercise 3: Nothing Can be Ruined\n",
    "\n",
    "Create a new cell, convert it to a markdown cell and create some of your own text, starting with a heading. If you make a mistake, CTRL-Z or Command Z will undo the change (while you are working in the cell)\n",
    "\n",
    "Uh-oh what's happening here?"
   ]
  },
  {
   "cell_type": "markdown",
   "metadata": {},
   "source": [
    "**Converting Cells**\n",
    "\n",
    "By default, new cells that are created are code cells. To make it a markdown cell, go to the toolbar at the top of the page. Select 'Cell' ---> 'Cell Type' "
   ]
  },
  {
   "cell_type": "markdown",
   "metadata": {},
   "source": [
    "# Don't Forget About Markdown Cells <a name=\"mkdn\"></a>"
   ]
  },
  {
   "cell_type": "markdown",
   "metadata": {},
   "source": [
    "## Exercise 4: Run Those Markdowns <a name=\"ex4\"></a>\n",
    "\n",
    "Double click the following three cells then to return a rendered view of the selected cell, click the 'Run' button or use the keyboard shortcut 'CTRL-ENTER' "
   ]
  },
  {
   "cell_type": "markdown",
   "metadata": {},
   "source": [
    "# This is a super big title\n",
    "## This is a big title\n",
    "### This is a medium title\n",
    "#### This is a small title "
   ]
  },
  {
   "cell_type": "markdown",
   "metadata": {},
   "source": [
    "This is a *word* in *italics*\n",
    "This is a **word** in **bold**"
   ]
  },
  {
   "cell_type": "markdown",
   "metadata": {},
   "source": [
    "- list item 1\n",
    "- list item 2\n",
    "- list item 3\n",
    "    - sublist item 1 "
   ]
  },
  {
   "cell_type": "markdown",
   "metadata": {},
   "source": [
    "## Exercise 5: Edit the text in a Markdown cell <a name=\"ex5\"></a>\n",
    "\n",
    "- Switch this cell into 'edit mode' (green cell border), by double-clicking inside the cell. \n",
    "- Add a bullet point below these lines of text and list elements, like your favorite places to travel or your favorite books. \n",
    "- Then use `CTRL` + `Enter` to \"run\" the cell/render the markdown.  \n",
    "    - for example: here is one bullet point\n",
    "        - here is a sub bullet point\n",
    "        \n",
    "        \n",
    "    - list your main item here\n",
    "        - write why you like that place/book/thing here\n",
    "\n"
   ]
  },
  {
   "cell_type": "markdown",
   "metadata": {},
   "source": [
    "#  More Jupyter Notebook Exercises: 'command palette', shortcuts, creating new cells <a name=\"mjn\"></a>\n",
    "\n",
    "Learn more about notebook commands, keyboard shortcuts, and creating new cells for Markdown and code."
   ]
  },
  {
   "cell_type": "markdown",
   "metadata": {},
   "source": [
    "#### The 'command palette' has all notebook actions and shortcuts\n",
    "\n",
    "In the command palette, you can search for any command, and run that action directly from the palette, as well as seeing the shortcut for that action if available. \n",
    "\n",
    "1. Press ``CTRL + SHIFT+ P`` to show the command palette. (`COMMAND + SHIFT+ P` key for Mac) \n",
    "    * With the palette open, search for 'edit', to find the shortcut for `enter 'edit' mode`. Click on this action from the list. This cell will then switch into 'edit' mode. "
   ]
  },
  {
   "cell_type": "markdown",
   "metadata": {},
   "source": [
    "#### Keyboard Shortcuts for Jupyter Notebook :\n",
    "\n",
    "* `CTRL` + `SHIFT`+ `P` : show 'command palette' (`COMMAND` key for Mac) \n",
    "* `esc` : command mode\n",
    "* `enter` : edit mode\n",
    "* `a` : insert cell above\n",
    "* `b` : insert cell below\n",
    "*  `SHIFT` + `enter`: run a code cell (or render a markdown cell)\n",
    "* `d d`: delete a cell\n"
   ]
  },
  {
   "cell_type": "markdown",
   "metadata": {},
   "source": [
    "## Exercise 6 : Add new cells to notebook <a name=\"ex6\"></a>\n",
    "\n",
    "* With this cell in command mode (blue border), add a cell underneath it, then add some cells above the cells you added. \n",
    "    * press `b` to add a cell below an existing cell. \n",
    "    * You can keep pressing `b` to add more cells; it doesn't hurt anything to have empty cells in the notebook. \n",
    "    * press `a` to add a cell above an existing cell. "
   ]
  },
  {
   "cell_type": "markdown",
   "metadata": {},
   "source": [
    "## Exercise 7 : Add a new Markdown cell, add some text <a name=\"ex7\"></a>\n",
    "\n",
    "create a Markdown cell: \n",
    "* click on one of the empty cells you created, or just create another one here. \n",
    "* A brand-new cell will be in command mode (blue cell border)  \n",
    "* Remember: if there's an `In [ ]:` to the left of the cell, this means it's a code cell. Any text you type into the cell will be treated as code. \n",
    "* To convert the cell to a Markdown cell, press `m` to switch the cell to markdown (Cell --> Cell Type in the toolbar).  \n",
    "    * The `In [ ]:` to the left of the cell will disappear, indicating it is now a Markdown cell. Any text you type into the cell will now be treated as markdown. \n",
    "* If this did not work, make sure the cell is in command mode. Switch to Command mode by pressing `Esc`. The cell border will turn blue. \n",
    "\n",
    "add text in a Markdown cell: \n",
    "* Switch the cell to Edit mode by clicking inside it. \n",
    "* In the markdown cell, type a header, and then some regular text. For example: \n",
    "\n",
    "    ```\n",
    "    #### here's an example header  \n",
    "    and some regular paragraph text \n",
    "    ```"
   ]
  },
  {
   "cell_type": "markdown",
   "metadata": {},
   "source": [
    "#### use the markdown cell below for the exercise"
   ]
  },
  {
   "cell_type": "markdown",
   "metadata": {},
   "source": [
    "###(placeholder markdown cell)"
   ]
  },
  {
   "cell_type": "markdown",
   "metadata": {},
   "source": [
    "#### Execute/render a markdown cell\n",
    "\n",
    "* As you did for the code cells, press `CTRL` + `Enter` to \"run\" the markdown cell/render the markdown that you just typed.  \n",
    "* the text will display as a formatted version, and the cell border will switch from green to blue. \n",
    "\n",
    "---\n",
    "---\n",
    "----"
   ]
  },
  {
   "cell_type": "markdown",
   "metadata": {},
   "source": [
    "# Clearing Variables/Output <a name=\"kernels\"></a>\n",
    "\n",
    "\n",
    "## From the 'Kernel' menu \n",
    "\n",
    "**Restart**: restarts the kernel, clearing all variables that were defined or run\n",
    "\n",
    "**Restart & Clear Output** same as above but will wipe output displayed below code cells\n",
    "\n",
    "**Restart & Run All** same as above but will also run your cells from first to last. If your kernel gets stuck on a computation and you want to quit the process, chose \"Interrupt\". \n"
   ]
  },
  {
   "cell_type": "markdown",
   "metadata": {},
   "source": [
    "\n",
    "# Did you realize you are actually mildly confident with Python and Jupyter Notebook? <a name=\"ugood\"></a>\n",
    "\n",
    "### Am I boring the kernels out of you? Please get something out of this 1.5 hour workshop and try working through a DH Jupyter Notebook focused tutorial:\n",
    "\n",
    "[Intro to Text Mining with Python using Jupyter](https://github.com/mchesterkadwell/intro-to-text-mining-with-python)\n",
    "\n",
    "Download the .ipynb files and open them through the Jupyter Notebook Dashboard. "
   ]
  },
  {
   "cell_type": "markdown",
   "metadata": {},
   "source": [
    "# Resources <a name=\"res\"></a>\n"
   ]
  },
  {
   "cell_type": "markdown",
   "metadata": {},
   "source": [
    "### Jupyter Tutorials\n",
    "\n",
    "- [Project Jupyter](http://jupyter.org/)\n",
    "- [Try Jupyter](https://try.jupyter.org/)\n",
    "- [Jupyter on Github](https://github.com/jupyter)\n",
    "- [Jupyter Magic Commands](https://ipython.org/ipython-doc/3/interactive/magics.html)\n",
    "- [Jupyter Notebook Server](http://jupyter-notebook.readthedocs.io/en/latest/public_server.html)\n",
    "- [Jupyter Notebooks Gallery](https://github.com/ipython/ipython/wiki/A-gallery-of-interesting-IPython-Notebooks#data-driven-journalism)\n",
    "- [Teaching and Learning with Jupyter (online edu book)](https://jupyter4edu.github.io/jupyter-edu-book/)\n",
    "\n",
    "Download kernels to install/use different coding languages (R, Julia, Ruby) \n",
    "- [Jupyter Kernels GitHub](https://github.com/jupyter/jupyter/wiki/Jupyter-kernels)"
   ]
  },
  {
   "cell_type": "markdown",
   "metadata": {},
   "source": [
    "### Python Tutorials\n",
    "\n",
    "- [Python lessons on Codecademy](https://www.codecademy.com/learn/python)\n",
    "\n",
    "- [Python lessons on Lynda](https://www.lynda.com/Python-3-tutorials/essential-training/62226-2.html)\n",
    "\n",
    "- [Learning Python 3 with Jupyter](https://gist.github.com/kenjyco/69eeb503125035f21a9d)\n",
    "\n",
    "- [Python Programming for the Humanities](http://www.karsdorp.io/python-course/)\n",
    "\n",
    "- [Intro to Text Mining with Python using Jupyter](https://github.com/mchesterkadwell/intro-to-text-mining-with-python)"
   ]
  },
  {
   "cell_type": "markdown",
   "metadata": {},
   "source": [
    "### Jupyter Notebooks for Digital Humanities \n",
    "\n",
    "The following list of notebooks for digital humanities purposes was sourced from Twitter in June 2019. If you only want notebooks in English, search for \"en\".\n",
    "\n",
    "[Dr. Quinn Dembrowski's DH Jupyter Notebook List](https://github.com/quinnanya/dh-jupyter)"
   ]
  },
  {
   "cell_type": "markdown",
   "metadata": {},
   "source": [
    "### Installing Python and Data Science Libraries\n",
    "\n",
    "Anaconda - package and environment manager for Python\n",
    "https://docs.anaconda.com/anaconda/install/\n",
    "\n",
    "Datacamp tutorials on Anaconda \n",
    "* [Installing Anaconda on Windows](https://www.datacamp.com/community/tutorials/installing-anaconda-windows) \n",
    "* [Installing Anaconda on Mac OS X](https://www.datacamp.com/community/tutorials/installing-anaconda-mac-os-x)\n",
    "\n",
    "Python.org Guide: [Installing packages using pip and virtual environments](https://packaging.python.org/guides/installing-using-pip-and-virtual-environments/)\n",
    "* how to manually create/manage Python environments if not using Anaconda \n",
    "\n",
    "[Installing Python Packages from a Jupyter Notebook](https://jakevdp.github.io/blog/2017/12/05/installing-python-packages-from-jupyter/) \n",
    "\n"
   ]
  },
  {
   "cell_type": "markdown",
   "metadata": {},
   "source": [
    "### Specific topics and tutorials \n",
    "read_csv tutorial   \n",
    "https://www.datacamp.com/community/tutorials/pandas-read-csv\n",
    "\n",
    "Data cleaning tutorial   \n",
    "https://www.dataquest.io/blog/data-cleaning-with-python/\n",
    "\n",
    "Using pandas with text data   \n",
    "https://pandas.pydata.org/pandas-docs/stable/user_guide/text.html\n",
    "\n",
    "Pandas pivot table tutorial   \n",
    "https://pbpython.com/pandas-pivot-table-explained.html\n",
    "\n",
    "Data Types and Formats   \n",
    "https://datacarpentry.org/python-ecology-lesson/04-data-types-and-format/\n",
    "\n",
    "Jupyter Notebook about pandas to SQL    \n",
    "https://nbviewer.jupyter.org/github/gjreda/pydata2014nyc/blob/master/demo.ipynb"
   ]
  }
 ],
 "metadata": {
  "kernelspec": {
   "display_name": "Python 3",
   "language": "python",
   "name": "python3"
  },
  "language_info": {
   "codemirror_mode": {
    "name": "ipython",
    "version": 3
   },
   "file_extension": ".py",
   "mimetype": "text/x-python",
   "name": "python",
   "nbconvert_exporter": "python",
   "pygments_lexer": "ipython3",
   "version": "3.7.4"
  }
 },
 "nbformat": 4,
 "nbformat_minor": 2
}
